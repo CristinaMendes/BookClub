{
 "cells": [
  {
   "cell_type": "markdown",
   "metadata": {},
   "source": [
    "# Web Scraping with Selenium"
   ]
  },
  {
   "cell_type": "markdown",
   "metadata": {},
   "source": [
    "## Libraries"
   ]
  },
  {
   "cell_type": "code",
   "execution_count": 15,
   "metadata": {},
   "outputs": [],
   "source": [
    "import pandas as pd\n",
    "import re"
   ]
  },
  {
   "cell_type": "code",
   "execution_count": 16,
   "metadata": {},
   "outputs": [],
   "source": [
    "# import module\n",
    "from selenium import webdriver\n",
    "from selenium.webdriver.chrome.service import Service\n",
    "from selenium.webdriver.common.by import By"
   ]
  },
  {
   "cell_type": "markdown",
   "metadata": {},
   "source": [
    "## Launch an instance of Google Chrome"
   ]
  },
  {
   "cell_type": "code",
   "execution_count": 17,
   "metadata": {},
   "outputs": [],
   "source": [
    "# Importing the Servive class from the selenium.webdriver.chrome.service module\n",
    "service = Service()\n",
    "\n",
    "# Creating an instance of ChromeOptions to specify various Chrome driver options\n",
    "options = webdriver.ChromeOptions()\n",
    "\n",
    "# Initializing the Chrome WebDriver with the specified service and options\n",
    "driver = webdriver.Chrome(service=service, options=options)\n"
   ]
  },
  {
   "cell_type": "code",
   "execution_count": 18,
   "metadata": {},
   "outputs": [],
   "source": [
    "# Define the URL of the website to be scraped\n",
    "url = 'http://books.toscrape.com/'\n",
    "\n",
    "# Navigate to the specified URL using the Chrome WebDriver\n",
    "driver.get(url)"
   ]
  },
  {
   "cell_type": "markdown",
   "metadata": {},
   "source": [
    "# Books Titles"
   ]
  },
  {
   "cell_type": "code",
   "execution_count": 19,
   "metadata": {},
   "outputs": [],
   "source": [
    "#Initialize an empty list to store scraped data\n",
    "titleBooks = []\n",
    "\n",
    "# Extract data\n",
    "for selector in driver.find_elements(By.CSS_SELECTOR, \"article.product_pod\"):\n",
    "    titleElement = selector.find_element(By.CSS_SELECTOR, \"h3 > a\")\n",
    "    title = titleElement.get_attribute(\"title\")\n",
    "    # add to the list\n",
    "    titleBooks.append(title)"
   ]
  },
  {
   "cell_type": "markdown",
   "metadata": {},
   "source": [
    "# Click on the link"
   ]
  },
  {
   "cell_type": "code",
   "execution_count": 21,
   "metadata": {},
   "outputs": [],
   "source": [
    "# Initializes an empty list to store the stock quantities of each product.\n",
    "stockList = []\n",
    "\n",
    "# Locate the product elements on the page\n",
    "product_elements = driver.find_elements(By.CSS_SELECTOR, \"article.product_pod\")\n",
    "\n",
    "# Iterate over each product element to click on the title and extract information\n",
    "for product in product_elements:\n",
    "    # Find the book title element and click on it\n",
    "    titleElement = product.find_element(By.CSS_SELECTOR, \"h3 > a\")\n",
    "    title = titleElement.get_attribute(\"title\")\n",
    "    \n",
    "    # Click on the title to navigate to the product detail page\n",
    "    titleElement.click()\n",
    "\n",
    "    # Extract the stock quantity\n",
    "    try:\n",
    "        stock_text = driver.find_element(By.CLASS_NAME, 'instock').text\n",
    "        qtStock = int(re.search(r'In stock \\((\\d+) available\\)', stock_text).group(1))\n",
    "    except (ValueError, AttributeError):\n",
    "        qtStock = 0  # Set to 0 if stock info is unavailable or cannot be parsed\n",
    "    stockList.append(qtStock)\n",
    "\n",
    "    # Go back to the previous page\n",
    "    driver.back()"
   ]
  },
  {
   "cell_type": "code",
   "execution_count": 22,
   "metadata": {},
   "outputs": [],
   "source": [
    "# close the driver\n",
    "driver.quit()"
   ]
  },
  {
   "cell_type": "markdown",
   "metadata": {},
   "source": [
    "# DataFrame"
   ]
  },
  {
   "cell_type": "code",
   "execution_count": 23,
   "metadata": {},
   "outputs": [
    {
     "name": "stdout",
     "output_type": "stream",
     "text": [
      "                                                Title  Stock\n",
      "0                                A Light in the Attic     22\n",
      "1                                  Tipping the Velvet     20\n",
      "2                                          Soumission     20\n",
      "3                                       Sharp Objects     20\n",
      "4               Sapiens: A Brief History of Humankind     20\n",
      "5                                     The Requiem Red     19\n",
      "6   The Dirty Little Secrets of Getting Your Dream...     19\n",
      "7   The Coming Woman: A Novel Based on the Life of...     19\n",
      "8   The Boys in the Boat: Nine Americans and Their...     19\n",
      "9                                     The Black Maria     19\n",
      "10     Starving Hearts (Triangular Trade Trilogy, #1)     19\n",
      "11                              Shakespeare's Sonnets     19\n",
      "12                                        Set Me Free     19\n",
      "13  Scott Pilgrim's Precious Little Life (Scott Pi...     19\n",
      "14                          Rip it Up and Start Again     19\n",
      "15  Our Band Could Be Your Life: Scenes from the A...     19\n",
      "16                                               Olio     19\n",
      "17  Mesaerion: The Best Science Fiction Stories 18...     19\n",
      "18                       Libertarianism for Beginners     19\n",
      "19                            It's Only the Himalayas     19\n"
     ]
    }
   ],
   "source": [
    "# Create a DataFrame with the collected data\n",
    "df_books = pd.DataFrame({\n",
    "    'Title': titleBooks, # This column contains the titles of the books, sourced from the 'titleBooks' list.\n",
    "    'Stock': stockList # This column contains the stock quantities, sourced from the 'stockList' list.\n",
    "})\n",
    "\n",
    "# Display the DataFrame\n",
    "print(df_books)"
   ]
  },
  {
   "cell_type": "code",
   "execution_count": 24,
   "metadata": {},
   "outputs": [],
   "source": [
    "# Save the DataFrame in a CSV file\n",
    "df_books.to_csv('books_stock.csv', index=False)"
   ]
  }
 ],
 "metadata": {
  "kernelspec": {
   "display_name": "Python 3 (ipykernel)",
   "language": "python",
   "name": "python3"
  },
  "language_info": {
   "codemirror_mode": {
    "name": "ipython",
    "version": 3
   },
   "file_extension": ".py",
   "mimetype": "text/x-python",
   "name": "python",
   "nbconvert_exporter": "python",
   "pygments_lexer": "ipython3",
   "version": "3.11.2"
  }
 },
 "nbformat": 4,
 "nbformat_minor": 4
}
